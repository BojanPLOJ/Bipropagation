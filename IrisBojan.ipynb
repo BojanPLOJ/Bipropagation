{
  "nbformat": 4,
  "nbformat_minor": 0,
  "metadata": {
    "colab": {
      "name": "IrisBojan.ipynb",
      "provenance": [],
      "collapsed_sections": [],
      "authorship_tag": "ABX9TyMcqbNczzm42E0d1C7JA9Vc",
      "include_colab_link": true
    },
    "kernelspec": {
      "name": "python3",
      "display_name": "Python 3"
    }
  },
  "cells": [
    {
      "cell_type": "markdown",
      "metadata": {
        "id": "view-in-github",
        "colab_type": "text"
      },
      "source": [
        "<a href=\"https://colab.research.google.com/github/BojanPLOJ/Bipropagation/blob/master/IrisBojan.ipynb\" target=\"_parent\"><img src=\"https://colab.research.google.com/assets/colab-badge.svg\" alt=\"Open In Colab\"/></a>"
      ]
    },
    {
      "cell_type": "markdown",
      "metadata": {
        "id": "PdfIvpetAK1N"
      },
      "source": [
        "\r\n",
        "Kopirano z naslova:\r\n",
        "\r\n",
        "https://www.kdnuggets.com/2020/07/getting-started-tensorflow2.html"
      ]
    },
    {
      "cell_type": "code",
      "metadata": {
        "id": "Luclnjrb4NeY"
      },
      "source": [
        "from sklearn.datasets import load_iris\r\n",
        "iris = load_iris()"
      ],
      "execution_count": 1,
      "outputs": []
    },
    {
      "cell_type": "code",
      "metadata": {
        "id": "9tXWQTI14orw"
      },
      "source": [
        "from sklearn.model_selection import train_test_split #to split data\r\n",
        "\r\n",
        "import numpy as np\r\n",
        "import pandas as pd\r\n",
        "import matplotlib.pyplot as plt\r\n",
        "\r\n",
        "import tensorflow as tf\r\n",
        "from tensorflow.keras.layers import Dense\r\n",
        "from tensorflow.keras.models import Sequential\r\n"
      ],
      "execution_count": 2,
      "outputs": []
    },
    {
      "cell_type": "code",
      "metadata": {
        "id": "mbUykmhV4xPe",
        "colab": {
          "base_uri": "https://localhost:8080/"
        },
        "outputId": "1aa9a098-3db4-4a1d-ce73-62b7070bb98c"
      },
      "source": [
        "X = pd.DataFrame(data = iris.data, columns = iris.feature_names)\r\n",
        "print(X.head())"
      ],
      "execution_count": 3,
      "outputs": [
        {
          "output_type": "stream",
          "text": [
            "   sepal length (cm)  sepal width (cm)  petal length (cm)  petal width (cm)\n",
            "0                5.1               3.5                1.4               0.2\n",
            "1                4.9               3.0                1.4               0.2\n",
            "2                4.7               3.2                1.3               0.2\n",
            "3                4.6               3.1                1.5               0.2\n",
            "4                5.0               3.6                1.4               0.2\n"
          ],
          "name": "stdout"
        }
      ]
    },
    {
      "cell_type": "code",
      "metadata": {
        "id": "pTPCfF2a48CG",
        "colab": {
          "base_uri": "https://localhost:8080/",
          "height": 195
        },
        "outputId": "50249ff9-621f-47fd-bf35-d3bc581fd8df"
      },
      "source": [
        "y = pd.DataFrame(data=iris.target, columns = ['irisType'])\r\n",
        "y.head()"
      ],
      "execution_count": 4,
      "outputs": [
        {
          "output_type": "execute_result",
          "data": {
            "text/html": [
              "<div>\n",
              "<style scoped>\n",
              "    .dataframe tbody tr th:only-of-type {\n",
              "        vertical-align: middle;\n",
              "    }\n",
              "\n",
              "    .dataframe tbody tr th {\n",
              "        vertical-align: top;\n",
              "    }\n",
              "\n",
              "    .dataframe thead th {\n",
              "        text-align: right;\n",
              "    }\n",
              "</style>\n",
              "<table border=\"1\" class=\"dataframe\">\n",
              "  <thead>\n",
              "    <tr style=\"text-align: right;\">\n",
              "      <th></th>\n",
              "      <th>irisType</th>\n",
              "    </tr>\n",
              "  </thead>\n",
              "  <tbody>\n",
              "    <tr>\n",
              "      <th>0</th>\n",
              "      <td>0</td>\n",
              "    </tr>\n",
              "    <tr>\n",
              "      <th>1</th>\n",
              "      <td>0</td>\n",
              "    </tr>\n",
              "    <tr>\n",
              "      <th>2</th>\n",
              "      <td>0</td>\n",
              "    </tr>\n",
              "    <tr>\n",
              "      <th>3</th>\n",
              "      <td>0</td>\n",
              "    </tr>\n",
              "    <tr>\n",
              "      <th>4</th>\n",
              "      <td>0</td>\n",
              "    </tr>\n",
              "  </tbody>\n",
              "</table>\n",
              "</div>"
            ],
            "text/plain": [
              "   irisType\n",
              "0         0\n",
              "1         0\n",
              "2         0\n",
              "3         0\n",
              "4         0"
            ]
          },
          "metadata": {
            "tags": []
          },
          "execution_count": 4
        }
      ]
    },
    {
      "cell_type": "code",
      "metadata": {
        "id": "wHyKD4_t5eV2",
        "colab": {
          "base_uri": "https://localhost:8080/"
        },
        "outputId": "d3fd3166-99ae-41d6-9705-c6a1d76e1f54"
      },
      "source": [
        "y.irisType.value_counts()\r\n"
      ],
      "execution_count": 5,
      "outputs": [
        {
          "output_type": "execute_result",
          "data": {
            "text/plain": [
              "2    50\n",
              "1    50\n",
              "0    50\n",
              "Name: irisType, dtype: int64"
            ]
          },
          "metadata": {
            "tags": []
          },
          "execution_count": 5
        }
      ]
    },
    {
      "cell_type": "code",
      "metadata": {
        "id": "y-1mxMxZ5vlf",
        "colab": {
          "base_uri": "https://localhost:8080/"
        },
        "outputId": "588220ca-f0ad-46e6-fa10-8acb1f8d4540"
      },
      "source": [
        "\r\n",
        "iris.target_names #it is a key of dictionary iris"
      ],
      "execution_count": 6,
      "outputs": [
        {
          "output_type": "execute_result",
          "data": {
            "text/plain": [
              "array(['setosa', 'versicolor', 'virginica'], dtype='<U10')"
            ]
          },
          "metadata": {
            "tags": []
          },
          "execution_count": 6
        }
      ]
    },
    {
      "cell_type": "code",
      "metadata": {
        "id": "nISc6Hmh5_L9"
      },
      "source": [
        "X_train, X_test, y_train, y_test = train_test_split(X,y, test_size=0.1)"
      ],
      "execution_count": 7,
      "outputs": []
    },
    {
      "cell_type": "code",
      "metadata": {
        "id": "eevFThtF6WNY",
        "colab": {
          "base_uri": "https://localhost:8080/"
        },
        "outputId": "eb0304b4-97fe-4f2f-d07c-f87f914278d4"
      },
      "source": [
        "y_train = tf.keras.utils.to_categorical(y_train)\r\n",
        "y_test = tf.keras.utils.to_categorical(y_test)\r\n",
        "y_train[:5,:]"
      ],
      "execution_count": 8,
      "outputs": [
        {
          "output_type": "execute_result",
          "data": {
            "text/plain": [
              "array([[1., 0., 0.],\n",
              "       [0., 0., 1.],\n",
              "       [1., 0., 0.],\n",
              "       [0., 1., 0.],\n",
              "       [0., 0., 1.]], dtype=float32)"
            ]
          },
          "metadata": {
            "tags": []
          },
          "execution_count": 8
        }
      ]
    },
    {
      "cell_type": "code",
      "metadata": {
        "id": "Fs1HOa7G7ASW"
      },
      "source": [
        "X_train = X_train.values\r\n",
        "\r\n",
        "X_test = X_test.values\r\n"
      ],
      "execution_count": 9,
      "outputs": []
    },
    {
      "cell_type": "code",
      "metadata": {
        "colab": {
          "base_uri": "https://localhost:8080/"
        },
        "id": "Ckp4zM6F7LlH",
        "outputId": "94a8bfeb-6a3d-451e-ae0c-e73cbb4dd885"
      },
      "source": [
        "X_train[0]"
      ],
      "execution_count": 10,
      "outputs": [
        {
          "output_type": "execute_result",
          "data": {
            "text/plain": [
              "array([5.8, 4. , 1.2, 0.2])"
            ]
          },
          "metadata": {
            "tags": []
          },
          "execution_count": 10
        }
      ]
    },
    {
      "cell_type": "code",
      "metadata": {
        "colab": {
          "base_uri": "https://localhost:8080/"
        },
        "id": "uoqG9uyj7N72",
        "outputId": "016be84b-7b15-43d4-c592-6eb29c6d8a5d"
      },
      "source": [
        "y_train[0]"
      ],
      "execution_count": 11,
      "outputs": [
        {
          "output_type": "execute_result",
          "data": {
            "text/plain": [
              "array([1., 0., 0.], dtype=float32)"
            ]
          },
          "metadata": {
            "tags": []
          },
          "execution_count": 11
        }
      ]
    },
    {
      "cell_type": "code",
      "metadata": {
        "id": "HVgHE8ro7hEY"
      },
      "source": [
        "model1 = Sequential() #Sequential Object"
      ],
      "execution_count": 12,
      "outputs": []
    },
    {
      "cell_type": "code",
      "metadata": {
        "id": "zMihmvR6_kdu"
      },
      "source": [
        "model1.add( Dense( 4, activation = 'sigmoid', input_shape= X_train[1].shape))\r\n",
        "model1.add( Dense ( 100, activation = 'relu'))\r\n",
        "model1.add( Dense ( 100, activation = 'relu'))\r\n",
        "model1.add( Dense ( 3, activation = 'softmax'))"
      ],
      "execution_count": 13,
      "outputs": []
    },
    {
      "cell_type": "code",
      "metadata": {
        "id": "EPuxJqknCAIv"
      },
      "source": [
        "model1.compile(optimizer='adam', loss= 'categorical_crossentropy', metrics = ['acc'])"
      ],
      "execution_count": 14,
      "outputs": []
    },
    {
      "cell_type": "code",
      "metadata": {
        "colab": {
          "base_uri": "https://localhost:8080/"
        },
        "id": "f8S2FvUEEM_b",
        "outputId": "f7c2ea1a-738a-4b68-83bc-041942ef3e91"
      },
      "source": [
        "history = model1.fit(X_train, y_train, batch_size = 1, epochs=80, validation_split = 0.5)\r\n"
      ],
      "execution_count": 16,
      "outputs": [
        {
          "output_type": "stream",
          "text": [
            "Epoch 1/80\n",
            "67/67 [==============================] - 0s 3ms/step - loss: 0.0766 - acc: 0.9701 - val_loss: 0.0643 - val_acc: 0.9706\n",
            "Epoch 2/80\n",
            "67/67 [==============================] - 0s 2ms/step - loss: 0.0679 - acc: 0.9701 - val_loss: 0.0717 - val_acc: 0.9853\n",
            "Epoch 3/80\n",
            "67/67 [==============================] - 0s 3ms/step - loss: 0.0600 - acc: 0.9552 - val_loss: 0.0652 - val_acc: 0.9706\n",
            "Epoch 4/80\n",
            "67/67 [==============================] - 0s 2ms/step - loss: 0.0605 - acc: 0.9701 - val_loss: 0.0676 - val_acc: 0.9853\n",
            "Epoch 5/80\n",
            "67/67 [==============================] - 0s 2ms/step - loss: 0.0866 - acc: 0.9701 - val_loss: 0.0674 - val_acc: 0.9853\n",
            "Epoch 6/80\n",
            "67/67 [==============================] - 0s 2ms/step - loss: 0.0900 - acc: 0.9701 - val_loss: 0.0638 - val_acc: 0.9706\n",
            "Epoch 7/80\n",
            "67/67 [==============================] - 0s 2ms/step - loss: 0.1401 - acc: 0.9403 - val_loss: 0.0664 - val_acc: 0.9706\n",
            "Epoch 8/80\n",
            "67/67 [==============================] - 0s 2ms/step - loss: 0.0488 - acc: 0.9851 - val_loss: 0.0753 - val_acc: 0.9853\n",
            "Epoch 9/80\n",
            "67/67 [==============================] - 0s 4ms/step - loss: 0.0554 - acc: 0.9701 - val_loss: 0.0707 - val_acc: 0.9706\n",
            "Epoch 10/80\n",
            "67/67 [==============================] - 0s 3ms/step - loss: 0.0440 - acc: 0.9851 - val_loss: 0.0858 - val_acc: 0.9853\n",
            "Epoch 11/80\n",
            "67/67 [==============================] - 0s 2ms/step - loss: 0.0580 - acc: 0.9851 - val_loss: 0.0852 - val_acc: 0.9559\n",
            "Epoch 12/80\n",
            "67/67 [==============================] - 0s 2ms/step - loss: 0.1106 - acc: 0.9701 - val_loss: 0.0954 - val_acc: 0.9706\n",
            "Epoch 13/80\n",
            "67/67 [==============================] - 0s 2ms/step - loss: 0.0731 - acc: 0.9701 - val_loss: 0.0899 - val_acc: 0.9853\n",
            "Epoch 14/80\n",
            "67/67 [==============================] - 0s 2ms/step - loss: 0.0770 - acc: 0.9552 - val_loss: 0.0700 - val_acc: 0.9853\n",
            "Epoch 15/80\n",
            "67/67 [==============================] - 0s 2ms/step - loss: 0.0766 - acc: 0.9552 - val_loss: 0.0755 - val_acc: 0.9853\n",
            "Epoch 16/80\n",
            "67/67 [==============================] - 0s 3ms/step - loss: 0.1136 - acc: 0.9403 - val_loss: 0.1339 - val_acc: 0.9559\n",
            "Epoch 17/80\n",
            "67/67 [==============================] - 0s 3ms/step - loss: 0.1256 - acc: 0.9552 - val_loss: 0.1262 - val_acc: 0.9559\n",
            "Epoch 18/80\n",
            "67/67 [==============================] - 0s 2ms/step - loss: 0.0814 - acc: 0.9701 - val_loss: 0.0655 - val_acc: 0.9706\n",
            "Epoch 19/80\n",
            "67/67 [==============================] - 0s 3ms/step - loss: 0.0603 - acc: 0.9701 - val_loss: 0.0881 - val_acc: 0.9853\n",
            "Epoch 20/80\n",
            "67/67 [==============================] - 0s 2ms/step - loss: 0.0593 - acc: 0.9701 - val_loss: 0.0694 - val_acc: 0.9706\n",
            "Epoch 21/80\n",
            "67/67 [==============================] - 0s 2ms/step - loss: 0.0573 - acc: 0.9701 - val_loss: 0.0831 - val_acc: 0.9853\n",
            "Epoch 22/80\n",
            "67/67 [==============================] - 0s 3ms/step - loss: 0.1116 - acc: 0.9403 - val_loss: 0.0802 - val_acc: 0.9853\n",
            "Epoch 23/80\n",
            "67/67 [==============================] - 0s 3ms/step - loss: 0.0796 - acc: 0.9851 - val_loss: 0.0762 - val_acc: 0.9559\n",
            "Epoch 24/80\n",
            "67/67 [==============================] - 0s 2ms/step - loss: 0.0709 - acc: 0.9701 - val_loss: 0.0689 - val_acc: 0.9853\n",
            "Epoch 25/80\n",
            "67/67 [==============================] - 0s 2ms/step - loss: 0.0696 - acc: 0.9701 - val_loss: 0.0851 - val_acc: 0.9853\n",
            "Epoch 26/80\n",
            "67/67 [==============================] - 0s 2ms/step - loss: 0.1049 - acc: 0.9403 - val_loss: 0.0952 - val_acc: 0.9706\n",
            "Epoch 27/80\n",
            "67/67 [==============================] - 0s 2ms/step - loss: 0.0545 - acc: 0.9701 - val_loss: 0.0684 - val_acc: 0.9706\n",
            "Epoch 28/80\n",
            "67/67 [==============================] - 0s 2ms/step - loss: 0.0517 - acc: 0.9701 - val_loss: 0.1523 - val_acc: 0.9559\n",
            "Epoch 29/80\n",
            "67/67 [==============================] - 0s 2ms/step - loss: 0.0494 - acc: 0.9701 - val_loss: 0.0698 - val_acc: 0.9706\n",
            "Epoch 30/80\n",
            "67/67 [==============================] - 0s 2ms/step - loss: 0.0710 - acc: 0.9701 - val_loss: 0.0708 - val_acc: 0.9853\n",
            "Epoch 31/80\n",
            "67/67 [==============================] - 0s 2ms/step - loss: 0.0652 - acc: 0.9701 - val_loss: 0.0684 - val_acc: 0.9706\n",
            "Epoch 32/80\n",
            "67/67 [==============================] - 0s 2ms/step - loss: 0.0428 - acc: 0.9851 - val_loss: 0.0723 - val_acc: 0.9706\n",
            "Epoch 33/80\n",
            "67/67 [==============================] - 0s 3ms/step - loss: 0.0734 - acc: 0.9552 - val_loss: 0.0685 - val_acc: 0.9853\n",
            "Epoch 34/80\n",
            "67/67 [==============================] - 0s 2ms/step - loss: 0.0522 - acc: 0.9851 - val_loss: 0.0970 - val_acc: 0.9853\n",
            "Epoch 35/80\n",
            "67/67 [==============================] - 0s 3ms/step - loss: 0.0849 - acc: 0.9403 - val_loss: 0.0971 - val_acc: 0.9853\n",
            "Epoch 36/80\n",
            "67/67 [==============================] - 0s 2ms/step - loss: 0.0708 - acc: 0.9701 - val_loss: 0.0927 - val_acc: 0.9559\n",
            "Epoch 37/80\n",
            "67/67 [==============================] - 0s 2ms/step - loss: 0.0564 - acc: 0.9701 - val_loss: 0.0915 - val_acc: 0.9853\n",
            "Epoch 38/80\n",
            "67/67 [==============================] - 0s 3ms/step - loss: 0.0860 - acc: 0.9552 - val_loss: 0.0897 - val_acc: 0.9853\n",
            "Epoch 39/80\n",
            "67/67 [==============================] - 0s 3ms/step - loss: 0.1028 - acc: 0.9552 - val_loss: 0.1169 - val_acc: 0.9559\n",
            "Epoch 40/80\n",
            "67/67 [==============================] - 0s 2ms/step - loss: 0.0848 - acc: 0.9701 - val_loss: 0.0664 - val_acc: 0.9706\n",
            "Epoch 41/80\n",
            "67/67 [==============================] - 0s 2ms/step - loss: 0.0567 - acc: 0.9552 - val_loss: 0.0673 - val_acc: 0.9853\n",
            "Epoch 42/80\n",
            "67/67 [==============================] - 0s 2ms/step - loss: 0.0685 - acc: 0.9552 - val_loss: 0.0678 - val_acc: 0.9706\n",
            "Epoch 43/80\n",
            "67/67 [==============================] - 0s 2ms/step - loss: 0.0568 - acc: 0.9552 - val_loss: 0.0698 - val_acc: 0.9706\n",
            "Epoch 44/80\n",
            "67/67 [==============================] - 0s 2ms/step - loss: 0.0579 - acc: 0.9701 - val_loss: 0.0898 - val_acc: 0.9853\n",
            "Epoch 45/80\n",
            "67/67 [==============================] - 0s 2ms/step - loss: 0.0786 - acc: 0.9701 - val_loss: 0.0849 - val_acc: 0.9853\n",
            "Epoch 46/80\n",
            "67/67 [==============================] - 0s 2ms/step - loss: 0.0706 - acc: 0.9701 - val_loss: 0.0859 - val_acc: 0.9853\n",
            "Epoch 47/80\n",
            "67/67 [==============================] - 0s 2ms/step - loss: 0.0913 - acc: 0.9552 - val_loss: 0.0742 - val_acc: 0.9853\n",
            "Epoch 48/80\n",
            "67/67 [==============================] - 0s 2ms/step - loss: 0.0497 - acc: 0.9701 - val_loss: 0.0752 - val_acc: 0.9706\n",
            "Epoch 49/80\n",
            "67/67 [==============================] - 0s 2ms/step - loss: 0.0660 - acc: 0.9701 - val_loss: 0.0724 - val_acc: 0.9853\n",
            "Epoch 50/80\n",
            "67/67 [==============================] - 0s 2ms/step - loss: 0.0531 - acc: 0.9701 - val_loss: 0.0769 - val_acc: 0.9853\n",
            "Epoch 51/80\n",
            "67/67 [==============================] - 0s 3ms/step - loss: 0.0705 - acc: 0.9701 - val_loss: 0.0963 - val_acc: 0.9853\n",
            "Epoch 52/80\n",
            "67/67 [==============================] - 0s 2ms/step - loss: 0.0670 - acc: 0.9701 - val_loss: 0.0683 - val_acc: 0.9706\n",
            "Epoch 53/80\n",
            "67/67 [==============================] - 0s 4ms/step - loss: 0.0656 - acc: 0.9701 - val_loss: 0.0691 - val_acc: 0.9853\n",
            "Epoch 54/80\n",
            "67/67 [==============================] - 0s 2ms/step - loss: 0.0433 - acc: 0.9851 - val_loss: 0.0691 - val_acc: 0.9706\n",
            "Epoch 55/80\n",
            "67/67 [==============================] - 0s 2ms/step - loss: 0.0642 - acc: 0.9552 - val_loss: 0.0691 - val_acc: 0.9706\n",
            "Epoch 56/80\n",
            "67/67 [==============================] - 0s 2ms/step - loss: 0.0401 - acc: 0.9851 - val_loss: 0.0673 - val_acc: 0.9706\n",
            "Epoch 57/80\n",
            "67/67 [==============================] - 0s 2ms/step - loss: 0.0430 - acc: 0.9851 - val_loss: 0.1065 - val_acc: 0.9706\n",
            "Epoch 58/80\n",
            "67/67 [==============================] - 0s 2ms/step - loss: 0.0778 - acc: 0.9552 - val_loss: 0.0726 - val_acc: 0.9706\n",
            "Epoch 59/80\n",
            "67/67 [==============================] - 0s 2ms/step - loss: 0.0323 - acc: 0.9851 - val_loss: 0.1135 - val_acc: 0.9706\n",
            "Epoch 60/80\n",
            "67/67 [==============================] - 0s 2ms/step - loss: 0.0505 - acc: 0.9701 - val_loss: 0.0744 - val_acc: 0.9853\n",
            "Epoch 61/80\n",
            "67/67 [==============================] - 0s 2ms/step - loss: 0.1032 - acc: 0.9552 - val_loss: 0.0807 - val_acc: 0.9853\n",
            "Epoch 62/80\n",
            "67/67 [==============================] - 0s 3ms/step - loss: 0.0480 - acc: 0.9701 - val_loss: 0.1001 - val_acc: 0.9853\n",
            "Epoch 63/80\n",
            "67/67 [==============================] - 0s 3ms/step - loss: 0.0788 - acc: 0.9701 - val_loss: 0.0705 - val_acc: 0.9706\n",
            "Epoch 64/80\n",
            "67/67 [==============================] - 0s 2ms/step - loss: 0.0769 - acc: 0.9552 - val_loss: 0.0684 - val_acc: 0.9706\n",
            "Epoch 65/80\n",
            "67/67 [==============================] - 0s 2ms/step - loss: 0.0718 - acc: 0.9552 - val_loss: 0.1095 - val_acc: 0.9706\n",
            "Epoch 66/80\n",
            "67/67 [==============================] - 0s 2ms/step - loss: 0.0757 - acc: 0.9552 - val_loss: 0.1306 - val_acc: 0.9559\n",
            "Epoch 67/80\n",
            "67/67 [==============================] - 0s 2ms/step - loss: 0.0720 - acc: 0.9701 - val_loss: 0.0926 - val_acc: 0.9853\n",
            "Epoch 68/80\n",
            "67/67 [==============================] - 0s 2ms/step - loss: 0.0628 - acc: 0.9701 - val_loss: 0.0896 - val_acc: 0.9853\n",
            "Epoch 69/80\n",
            "67/67 [==============================] - 0s 3ms/step - loss: 0.0416 - acc: 0.9851 - val_loss: 0.1173 - val_acc: 0.9412\n",
            "Epoch 70/80\n",
            "67/67 [==============================] - 0s 3ms/step - loss: 0.0794 - acc: 0.9552 - val_loss: 0.0929 - val_acc: 0.9559\n",
            "Epoch 71/80\n",
            "67/67 [==============================] - 0s 2ms/step - loss: 0.0682 - acc: 0.9701 - val_loss: 0.0797 - val_acc: 0.9559\n",
            "Epoch 72/80\n",
            "67/67 [==============================] - 0s 2ms/step - loss: 0.1548 - acc: 0.9403 - val_loss: 0.1060 - val_acc: 0.9559\n",
            "Epoch 73/80\n",
            "67/67 [==============================] - 0s 2ms/step - loss: 0.0743 - acc: 0.9701 - val_loss: 0.0746 - val_acc: 0.9853\n",
            "Epoch 74/80\n",
            "67/67 [==============================] - 0s 3ms/step - loss: 0.0505 - acc: 0.9552 - val_loss: 0.0739 - val_acc: 0.9706\n",
            "Epoch 75/80\n",
            "67/67 [==============================] - 0s 2ms/step - loss: 0.0731 - acc: 0.9701 - val_loss: 0.0734 - val_acc: 0.9706\n",
            "Epoch 76/80\n",
            "67/67 [==============================] - 0s 2ms/step - loss: 0.0484 - acc: 0.9851 - val_loss: 0.1093 - val_acc: 0.9559\n",
            "Epoch 77/80\n",
            "67/67 [==============================] - 0s 3ms/step - loss: 0.0414 - acc: 0.9851 - val_loss: 0.0818 - val_acc: 0.9559\n",
            "Epoch 78/80\n",
            "67/67 [==============================] - 0s 2ms/step - loss: 0.0591 - acc: 0.9851 - val_loss: 0.0751 - val_acc: 0.9853\n",
            "Epoch 79/80\n",
            "67/67 [==============================] - 0s 2ms/step - loss: 0.0585 - acc: 0.9851 - val_loss: 0.0760 - val_acc: 0.9706\n",
            "Epoch 80/80\n",
            "67/67 [==============================] - 0s 2ms/step - loss: 0.0379 - acc: 0.9851 - val_loss: 0.1649 - val_acc: 0.9559\n"
          ],
          "name": "stdout"
        }
      ]
    },
    {
      "cell_type": "code",
      "metadata": {
        "colab": {
          "base_uri": "https://localhost:8080/",
          "height": 296
        },
        "id": "1eCIqGbEGBNV",
        "outputId": "34ff8573-f1b9-4526-a634-c82a863c5821"
      },
      "source": [
        "plt.plot(history.history['acc'])\r\n",
        "\r\n",
        "plt.plot(history.history['val_acc'])\r\n",
        "\r\n",
        "plt.xlabel('Epochs')\r\n",
        "\r\n",
        "plt.ylabel('Acc')\r\n",
        "\r\n",
        "plt.legend(['Training', 'Validation'], loc='upper right')"
      ],
      "execution_count": null,
      "outputs": [
        {
          "output_type": "execute_result",
          "data": {
            "text/plain": [
              "<matplotlib.legend.Legend at 0x7fbf95de88d0>"
            ]
          },
          "metadata": {
            "tags": []
          },
          "execution_count": 189
        },
        {
          "output_type": "display_data",
          "data": {
            "image/png": "[encoded data removed]",
            "text/plain": [
              "<Figure size 432x288 with 1 Axes>"
            ]
          },
          "metadata": {
            "tags": [],
            "needs_background": "light"
          }
        }
      ]
    }
  ]
}